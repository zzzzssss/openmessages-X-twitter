{
 "cells": [
  {
   "cell_type": "markdown",
   "metadata": {},
   "source": [
    "* We will evaluate how well your E/R diagram models your proposed application, including how well you modeled any relevant real-world constraints."
   ]
  },
  {
   "cell_type": "markdown",
   "metadata": {},
   "source": [
    "# openmessages\n",
    "\n",
    "## Overview\n",
    "This projdect is designed to explore the role Twitter data played in some social event. An example use case will be:\n",
    "\n",
    "I am interested in the role Twitter data played when IBM bought red hat.\n",
    "        * How many unique users posted after the news came out?\n",
    "        * What precentage of tweets were from official account?\n",
    "        * How many real-time photos and video were coming out on Twitter after the news came out?\n",
    "        * How did the followers of IBM and redhat change during and after news came out?\n",
    "       \n",
    "The archetecture of this appication is shown\n",
    "\n",
    "\n",
    "### Overview\n",
    "\n",
    "1. write your config in config.ini\n",
    "\n",
    "\n",
    "\n",
    "\n",
    "\n",
    "\n",
    "\n",
    "\n",
    "\n",
    "\n",
    "\n",
    "\n",
    "\n",
    "\n",
    "Future work:\n",
    "\n",
    "1. DB design: data type needs to be more efficient instead of using text/bigint\n",
    "2. kafka and zookeeper: Docker compose (Integertion with apiserver)\n",
    "3. restful server security\n",
    "4. "
   ]
  },
  {
   "cell_type": "code",
   "execution_count": null,
   "metadata": {
    "collapsed": true
   },
   "outputs": [],
   "source": []
  }
 ],
 "metadata": {
  "kernelspec": {
   "display_name": "Python [Root]",
   "language": "python",
   "name": "Python [Root]"
  },
  "language_info": {
   "codemirror_mode": {
    "name": "ipython",
    "version": 2
   },
   "file_extension": ".py",
   "mimetype": "text/x-python",
   "name": "python",
   "nbconvert_exporter": "python",
   "pygments_lexer": "ipython2",
   "version": "2.7.13"
  }
 },
 "nbformat": 4,
 "nbformat_minor": 0
}
